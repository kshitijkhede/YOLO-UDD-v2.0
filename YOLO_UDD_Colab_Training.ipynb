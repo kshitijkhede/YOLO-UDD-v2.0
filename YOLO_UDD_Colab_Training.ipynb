{
 "cells": [
  {
   "cell_type": "markdown",
   "id": "fa4c6ea9",
   "metadata": {},
   "source": [
    "# 🌊 YOLO-UDD v2.0 Training on Google Colab\n",
    "\n",
    "**Turbidity-Adaptive Underwater Debris Detection**\n",
    "\n",
    "⚠️ **Important**: Colab sessions timeout after 2-3 hours. This notebook is optimized for quick training cycles.\n",
    "\n",
    "---\n",
    "\n",
    "## 📋 Setup Instructions:\n",
    "\n",
    "1. **Enable GPU**: Runtime → Change runtime type → GPU (T4)\n",
    "2. **Connect to Google Drive** to save checkpoints\n",
    "3. **Run all cells** in order\n",
    "4. **Save checkpoints** to Drive before session ends!\n",
    "\n",
    "---"
   ]
  },
  {
   "cell_type": "markdown",
   "id": "4c4a90cc",
   "metadata": {},
   "source": [
    "## 1️⃣ Check GPU & Setup"
   ]
  },
  {
   "cell_type": "code",
   "execution_count": null,
   "id": "ac8f276b",
   "metadata": {},
   "outputs": [],
   "source": [
    "# Check GPU availability\n",
    "!nvidia-smi\n",
    "\n",
    "import torch\n",
    "print(f\"\\n🎮 GPU Available: {torch.cuda.is_available()}\")\n",
    "if torch.cuda.is_available():\n",
    "    print(f\"🎮 GPU Name: {torch.cuda.get_device_name(0)}\")\n",
    "    print(f\"🎮 GPU Memory: {torch.cuda.get_device_properties(0).total_memory / 1e9:.2f} GB\")"
   ]
  },
  {
   "cell_type": "markdown",
   "id": "7625ffb6",
   "metadata": {},
   "source": [
    "## 2️⃣ Mount Google Drive (IMPORTANT!)\n",
    "\n",
    "This allows saving checkpoints that persist after session ends."
   ]
  },
  {
   "cell_type": "code",
   "execution_count": null,
   "id": "273e92d3",
   "metadata": {},
   "outputs": [],
   "source": [
    "from google.colab import drive\n",
    "drive.mount('/content/drive')\n",
    "\n",
    "# Create working directory in Drive\n",
    "!mkdir -p '/content/drive/MyDrive/YOLO_UDD_Training'\n",
    "%cd '/content/drive/MyDrive/YOLO_UDD_Training'"
   ]
  },
  {
   "cell_type": "markdown",
   "id": "46be3938",
   "metadata": {},
   "source": [
    "## 3️⃣ Clone Repository"
   ]
  },
  {
   "cell_type": "code",
   "execution_count": null,
   "id": "8409ccc0",
   "metadata": {},
   "outputs": [],
   "source": [
    "# Clone your repository (only first time)\n",
    "import os\n",
    "if not os.path.exists('YOLO-UDD-v2.0'):\n",
    "    !git clone https://github.com/kshitijkhede/YOLO-UDD-v2.0.git\n",
    "else:\n",
    "    print(\"✅ Repository already exists, pulling latest changes...\")\n",
    "    !cd YOLO-UDD-v2.0 && git pull\n",
    "\n",
    "%cd YOLO-UDD-v2.0"
   ]
  },
  {
   "cell_type": "markdown",
   "id": "dde6ca98",
   "metadata": {},
   "source": [
    "## 4️⃣ Install Dependencies"
   ]
  },
  {
   "cell_type": "code",
   "execution_count": null,
   "id": "4f6aacbe",
   "metadata": {},
   "outputs": [],
   "source": [
    "!pip install -q -r requirements.txt\n",
    "!pip install -q tensorboard\n",
    "print(\"✅ Dependencies installed!\")"
   ]
  },
  {
   "cell_type": "markdown",
   "id": "bc36fd39",
   "metadata": {},
   "source": [
    "## 5️⃣ Upload Dataset\n",
    "\n",
    "**Option A: Upload annotations (first time only)**"
   ]
  },
  {
   "cell_type": "code",
   "execution_count": null,
   "id": "41fa32c6",
   "metadata": {},
   "outputs": [],
   "source": [
    "# Upload annotation files\n",
    "from google.colab import files\n",
    "import os\n",
    "\n",
    "os.makedirs('data/trashcan/annotations', exist_ok=True)\n",
    "\n",
    "# Check if annotations already exist in Drive\n",
    "drive_annotations = '/content/drive/MyDrive/YOLO_UDD_Training/annotations'\n",
    "if os.path.exists(f'{drive_annotations}/train.json'):\n",
    "    print(\"✅ Using annotations from Drive...\")\n",
    "    !cp {drive_annotations}/*.json data/trashcan/annotations/\n",
    "else:\n",
    "    print(\"📤 Please upload train.json (22 MB)...\")\n",
    "    uploaded = files.upload()\n",
    "    for filename in uploaded.keys():\n",
    "        !mv {filename} data/trashcan/annotations/train.json\n",
    "    \n",
    "    print(\"📤 Please upload val.json (5.6 MB)...\")\n",
    "    uploaded = files.upload()\n",
    "    for filename in uploaded.keys():\n",
    "        !mv {filename} data/trashcan/annotations/val.json\n",
    "    \n",
    "    # Save to Drive for future sessions\n",
    "    !mkdir -p {drive_annotations}\n",
    "    !cp data/trashcan/annotations/*.json {drive_annotations}/\n",
    "    print(\"✅ Annotations saved to Drive!\")"
   ]
  },
  {
   "cell_type": "markdown",
   "id": "b9c43d9a",
   "metadata": {},
   "source": [
    "**Option B: Download dataset from Drive**"
   ]
  },
  {
   "cell_type": "code",
   "execution_count": null,
   "id": "8e2dc58e",
   "metadata": {},
   "outputs": [],
   "source": [
    "# If you have images stored in Google Drive\n",
    "drive_images = '/content/drive/MyDrive/trashcan_images'\n",
    "\n",
    "if os.path.exists(drive_images):\n",
    "    print(\"✅ Copying images from Drive...\")\n",
    "    !cp -r {drive_images}/* data/trashcan/images/\n",
    "else:\n",
    "    print(\"⚠️ Images not found in Drive.\")\n",
    "    print(\"Please upload images to: /content/drive/MyDrive/trashcan_images/\")"
   ]
  },
  {
   "cell_type": "markdown",
   "id": "fe471361",
   "metadata": {},
   "source": [
    "## 6️⃣ Verify Dataset"
   ]
  },
  {
   "cell_type": "code",
   "execution_count": null,
   "id": "eaa594a4",
   "metadata": {},
   "outputs": [],
   "source": [
    "!python scripts/verify_dataset.py --dataset-dir data/trashcan"
   ]
  },
  {
   "cell_type": "markdown",
   "id": "ca50260a",
   "metadata": {},
   "source": [
    "## 7️⃣ Configure Training (Optimized for 2-3 hour sessions)"
   ]
  },
  {
   "cell_type": "code",
   "execution_count": null,
   "id": "cce57fb6",
   "metadata": {},
   "outputs": [],
   "source": [
    "import yaml\n",
    "\n",
    "# Colab-optimized config (50 epochs per session)\n",
    "config = {\n",
    "    'data_dir': './data/trashcan',\n",
    "    'num_classes': 3,\n",
    "    'img_size': 640,\n",
    "    'batch_size': 16,  # T4 GPU can handle this\n",
    "    'epochs': 50,  # Train 50 epochs per session\n",
    "    'num_workers': 2,\n",
    "    'lr': 0.001,\n",
    "    'weight_decay': 0.0001,\n",
    "    'lr_scheduler': 'cosine',\n",
    "    'min_lr': 1e-6,\n",
    "    'device': 'cuda',\n",
    "    'save_interval': 10,  # Save every 10 epochs\n",
    "    'early_stopping_patience': 20,\n",
    "}\n",
    "\n",
    "with open('configs/colab_config.yaml', 'w') as f:\n",
    "    yaml.dump(config, f)\n",
    "\n",
    "print(\"✅ Config created!\")\n",
    "print(yaml.dump(config, default_flow_style=False))"
   ]
  },
  {
   "cell_type": "markdown",
   "id": "f6c0dcfb",
   "metadata": {},
   "source": [
    "## 8️⃣ Start Training 🚀"
   ]
  },
  {
   "cell_type": "code",
   "execution_count": null,
   "id": "e8693e39",
   "metadata": {},
   "outputs": [],
   "source": [
    "# Check if there's a checkpoint in Drive to resume from\n",
    "import glob\n",
    "drive_checkpoints = glob.glob('/content/drive/MyDrive/YOLO_UDD_Training/checkpoints/last.pth')\n",
    "\n",
    "if drive_checkpoints:\n",
    "    print(f\"📂 Resuming from saved checkpoint...\")\n",
    "    !python scripts/train.py \\\n",
    "        --config configs/colab_config.yaml \\\n",
    "        --resume {drive_checkpoints[0]}\n",
    "else:\n",
    "    print(\"🆕 Starting fresh training...\")\n",
    "    !python scripts/train.py --config configs/colab_config.yaml"
   ]
  },
  {
   "cell_type": "markdown",
   "id": "6167add8",
   "metadata": {},
   "source": [
    "## 9️⃣ Save Checkpoints to Drive (CRITICAL!)\n",
    "\n",
    "**Run this before session ends or you'll lose progress!**"
   ]
  },
  {
   "cell_type": "code",
   "execution_count": null,
   "id": "efa1fef0",
   "metadata": {},
   "outputs": [],
   "source": [
    "# Save ALL checkpoints to Google Drive\n",
    "!mkdir -p '/content/drive/MyDrive/YOLO_UDD_Training/checkpoints'\n",
    "!mkdir -p '/content/drive/MyDrive/YOLO_UDD_Training/logs'\n",
    "\n",
    "# Copy checkpoints\n",
    "!cp -r runs/*/checkpoints/* '/content/drive/MyDrive/YOLO_UDD_Training/checkpoints/' 2>/dev/null || true\n",
    "\n",
    "# Copy logs\n",
    "!cp -r runs/*/logs/* '/content/drive/MyDrive/YOLO_UDD_Training/logs/' 2>/dev/null || true\n",
    "\n",
    "print(\"✅ Checkpoints saved to Google Drive!\")\n",
    "print(\"📁 Location: /content/drive/MyDrive/YOLO_UDD_Training/\")"
   ]
  },
  {
   "cell_type": "markdown",
   "id": "ee91e7d8",
   "metadata": {},
   "source": [
    "## 🔟 Monitor Training"
   ]
  },
  {
   "cell_type": "code",
   "execution_count": null,
   "id": "a4713769",
   "metadata": {},
   "outputs": [],
   "source": [
    "%load_ext tensorboard\n",
    "%tensorboard --logdir runs"
   ]
  },
  {
   "cell_type": "markdown",
   "id": "545e9ff0",
   "metadata": {},
   "source": [
    "## 1️⃣1️⃣ Evaluate Model"
   ]
  },
  {
   "cell_type": "code",
   "execution_count": null,
   "id": "b3a4e680",
   "metadata": {},
   "outputs": [],
   "source": [
    "# Evaluate best model\n",
    "!python scripts/evaluate.py \\\n",
    "    --checkpoint runs/*/checkpoints/best.pth \\\n",
    "    --data-dir data/trashcan \\\n",
    "    --split val"
   ]
  },
  {
   "cell_type": "markdown",
   "id": "fb49c4ed",
   "metadata": {},
   "source": [
    "## 1️⃣2️⃣ Test Detection"
   ]
  },
  {
   "cell_type": "code",
   "execution_count": null,
   "id": "cfb053d4",
   "metadata": {},
   "outputs": [],
   "source": [
    "# Run detection on sample images\n",
    "!python scripts/detect.py \\\n",
    "    --checkpoint runs/*/checkpoints/best.pth \\\n",
    "    --source data/trashcan/images/val/ \\\n",
    "    --output results/ \\\n",
    "    --max-images 10"
   ]
  },
  {
   "cell_type": "code",
   "execution_count": null,
   "id": "293c9624",
   "metadata": {},
   "outputs": [],
   "source": [
    "# Display detection results\n",
    "import matplotlib.pyplot as plt\n",
    "from PIL import Image\n",
    "import glob\n",
    "\n",
    "result_images = glob.glob('results/*.jpg')[:6]\n",
    "\n",
    "if result_images:\n",
    "    fig, axes = plt.subplots(2, 3, figsize=(15, 10))\n",
    "    axes = axes.flatten()\n",
    "    \n",
    "    for idx, img_path in enumerate(result_images):\n",
    "        img = Image.open(img_path)\n",
    "        axes[idx].imshow(img)\n",
    "        axes[idx].axis('off')\n",
    "        axes[idx].set_title(f'Detection {idx+1}')\n",
    "    \n",
    "    plt.tight_layout()\n",
    "    plt.show()\n",
    "else:\n",
    "    print(\"⚠️ No detection results found\")"
   ]
  },
  {
   "cell_type": "markdown",
   "id": "cd8c2fc5",
   "metadata": {},
   "source": [
    "## 1️⃣3️⃣ Download Best Model"
   ]
  },
  {
   "cell_type": "code",
   "execution_count": null,
   "id": "86cb1f7a",
   "metadata": {},
   "outputs": [],
   "source": [
    "# Download best model to your computer\n",
    "from google.colab import files\n",
    "\n",
    "best_model = glob.glob('runs/*/checkpoints/best.pth')\n",
    "if best_model:\n",
    "    print(f\"📥 Downloading: {best_model[0]}\")\n",
    "    files.download(best_model[0])\n",
    "else:\n",
    "    print(\"⚠️ No model found to download\")"
   ]
  },
  {
   "cell_type": "markdown",
   "id": "ac9c585d",
   "metadata": {},
   "source": [
    "---\n",
    "\n",
    "## 🔄 Multi-Session Strategy for Colab\n",
    "\n",
    "Since Colab sessions timeout after 2-3 hours:\n",
    "\n",
    "### **Session Plan:**\n",
    "\n",
    "1. **Session 1** (2-3 hours): Train 0-50 epochs → Save to Drive\n",
    "2. **Session 2** (2-3 hours): Resume 50-100 epochs → Save to Drive\n",
    "3. **Session 3** (2-3 hours): Resume 100-150 epochs → Save to Drive\n",
    "4. **Session 4** (2-3 hours): Resume 150-200 epochs → Save to Drive\n",
    "5. **Session 5** (2-3 hours): Resume 200-250 epochs → Save to Drive\n",
    "6. **Session 6** (2-3 hours): Resume 250-300 epochs → Final model!\n",
    "\n",
    "### **Before Each Session Ends:**\n",
    "1. ✅ Run cell 9️⃣ to save checkpoints to Drive\n",
    "2. ✅ Verify files in Drive\n",
    "3. ✅ Disconnect and start new session when needed\n",
    "\n",
    "### **To Resume:**\n",
    "- Just run all cells again\n",
    "- Cell 8️⃣ automatically detects and resumes from saved checkpoint\n",
    "\n",
    "---\n",
    "\n",
    "## 📊 Expected Progress\n",
    "\n",
    "- **After 50 epochs**: mAP ~35-40%\n",
    "- **After 100 epochs**: mAP ~50-55%\n",
    "- **After 150 epochs**: mAP ~60-65%\n",
    "- **After 200 epochs**: mAP ~65-70%\n",
    "- **After 300 epochs**: mAP ~70-75% (Final!)\n",
    "\n",
    "---"
   ]
  }
 ],
 "metadata": {
  "language_info": {
   "name": "python"
  }
 },
 "nbformat": 4,
 "nbformat_minor": 5
}
